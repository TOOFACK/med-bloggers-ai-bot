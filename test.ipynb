{
 "cells": [
  {
   "cell_type": "code",
   "execution_count": null,
   "id": "7153e2df",
   "metadata": {},
   "outputs": [],
   "source": [
    "import requests\n",
    "\n",
    "url = \"https://api.cometapi.com/v1beta/models/gemini-2.5-flash-image-preview:generateContent\"\n",
    "\n",
    "headers = {\n",
    "    \"Authorization\": \"sk-J77dilSDzvgRR5pE1z2tV1rTATJr2HAwiVYsI8g17M5CJixE\",  # замени на свой ключ\n",
    "    \"User-Agent\": \"Apifox/1.0.0 (https://apifox.com)\",\n",
    "    \"Content-Type\": \"application/json\",\n",
    "    \"Accept\": \"*/*\",\n",
    "    \"Host\": \"api.cometapi.com\",\n",
    "    \"Connection\": \"keep-alive\",\n",
    "}\n",
    "\n",
    "data = {\n",
    "    \"contents\": [\n",
    "        {\n",
    "            \"parts\": [\n",
    "                {\"text\": \"Create a picture of a nano banana dish in a fancy restaurant with a Gemini theme\"}\n",
    "            ]\n",
    "        }\n",
    "    ]\n",
    "}\n",
    "\n",
    "response = requests.post(url, headers=headers, json=data)\n",
    "\n",
    "print(\"Status:\", response.status_code)\n",
    "print(\"Response JSON:\", response.json())\n"
   ]
  },
  {
   "cell_type": "code",
   "execution_count": null,
   "id": "3bcc7cf9",
   "metadata": {},
   "outputs": [],
   "source": [
    "response.json().keys()"
   ]
  },
  {
   "cell_type": "code",
   "execution_count": null,
   "id": "7b204f95",
   "metadata": {},
   "outputs": [],
   "source": [
    "response.json()[\"candidates\"][0]['content']['parts'][1]['inlineData']"
   ]
  },
  {
   "cell_type": "code",
   "execution_count": null,
   "id": "346f2a33",
   "metadata": {},
   "outputs": [],
   "source": [
    "import base64\n",
    "\n",
    "result = response.json()\n",
    "\n",
    "# спускаемся в JSON\n",
    "img_base64 = result[\"candidates\"][0][\"content\"][\"parts\"][1][\"inlineData\"][\"data\"]\n",
    "\n",
    "# декодируем\n",
    "img_bytes = base64.b64decode(img_base64)\n",
    "\n",
    "# сохраняем\n",
    "with open(\"output.png\", \"wb\") as f:\n",
    "    f.write(img_bytes)\n",
    "\n",
    "print(\"Картинка сохранена как output.png\")\n"
   ]
  },
  {
   "cell_type": "code",
   "execution_count": 33,
   "id": "c3d58daf",
   "metadata": {},
   "outputs": [
    {
     "data": {
      "text/plain": [
       "666.6666666666667"
      ]
     },
     "execution_count": 33,
     "metadata": {},
     "output_type": "execute_result"
    }
   ],
   "source": [
    "20 / 0.03"
   ]
  },
  {
   "cell_type": "code",
   "execution_count": null,
   "id": "aacf9403",
   "metadata": {},
   "outputs": [],
   "source": []
  }
 ],
 "metadata": {
  "kernelspec": {
   "display_name": "nano-banana-bot",
   "language": "python",
   "name": "python3"
  },
  "language_info": {
   "codemirror_mode": {
    "name": "ipython",
    "version": 3
   },
   "file_extension": ".py",
   "mimetype": "text/x-python",
   "name": "python",
   "nbconvert_exporter": "python",
   "pygments_lexer": "ipython3",
   "version": "3.12.11"
  }
 },
 "nbformat": 4,
 "nbformat_minor": 5
}
